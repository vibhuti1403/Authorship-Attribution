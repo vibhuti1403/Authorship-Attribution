{
 "cells": [
  {
   "cell_type": "code",
   "execution_count": 1,
   "id": "b6c105a8",
   "metadata": {},
   "outputs": [],
   "source": [
    "import itertools\n",
    "import pandas as pd"
   ]
  },
  {
   "cell_type": "code",
   "execution_count": 2,
   "id": "c79d6f39",
   "metadata": {},
   "outputs": [],
   "source": [
    "import networkx as nx\n",
    "G = nx.Graph()"
   ]
  },
  {
   "cell_type": "code",
   "execution_count": 3,
   "id": "149dc1c7",
   "metadata": {},
   "outputs": [
    {
     "name": "stderr",
     "output_type": "stream",
     "text": [
      "/var/folders/bs/g0pg3lcs4lxfqrsc30blzc040000gn/T/ipykernel_5596/1277698713.py:9: SettingWithCopyWarning: \n",
      "A value is trying to be set on a copy of a slice from a DataFrame\n",
      "\n",
      "See the caveats in the documentation: https://pandas.pydata.org/pandas-docs/stable/user_guide/indexing.html#returning-a-view-versus-a-copy\n",
      "  df_train_seperated['authors'][index] = [item for item in row[0] if item < 100 ]\n",
      "/var/folders/bs/g0pg3lcs4lxfqrsc30blzc040000gn/T/ipykernel_5596/1277698713.py:10: SettingWithCopyWarning: \n",
      "A value is trying to be set on a copy of a slice from a DataFrame\n",
      "\n",
      "See the caveats in the documentation: https://pandas.pydata.org/pandas-docs/stable/user_guide/indexing.html#returning-a-view-versus-a-copy\n",
      "  df_train_seperated['coauth'][index] = [item for item in row[0] if item >= 100 ]\n"
     ]
    }
   ],
   "source": [
    "df_train = pd.read_json('train.json')\n",
    "df_train_seperated = df_train\n",
    "df_train_seperated['coauth'] = \"\"\n",
    "\n",
    "df_test = pd.read_json('test.json')\n",
    "df_test_auth = df_test['coauthors']\n",
    "\n",
    "for index, row in enumerate(df_train.values):\n",
    "    df_train_seperated['authors'][index] = [item for item in row[0] if item < 100 ]\n",
    "    df_train_seperated['coauth'][index] = [item for item in row[0] if item >= 100 ]"
   ]
  },
  {
   "cell_type": "code",
   "execution_count": 4,
   "id": "b2a9fa38",
   "metadata": {},
   "outputs": [
    {
     "data": {
      "text/html": [
       "<div>\n",
       "<style scoped>\n",
       "    .dataframe tbody tr th:only-of-type {\n",
       "        vertical-align: middle;\n",
       "    }\n",
       "\n",
       "    .dataframe tbody tr th {\n",
       "        vertical-align: top;\n",
       "    }\n",
       "\n",
       "    .dataframe thead th {\n",
       "        text-align: right;\n",
       "    }\n",
       "</style>\n",
       "<table border=\"1\" class=\"dataframe\">\n",
       "  <thead>\n",
       "    <tr style=\"text-align: right;\">\n",
       "      <th></th>\n",
       "      <th>authors</th>\n",
       "      <th>year</th>\n",
       "      <th>abstract</th>\n",
       "      <th>venue</th>\n",
       "      <th>title</th>\n",
       "      <th>coauth</th>\n",
       "    </tr>\n",
       "  </thead>\n",
       "  <tbody>\n",
       "    <tr>\n",
       "      <th>0</th>\n",
       "      <td>[42, 36]</td>\n",
       "      <td>9</td>\n",
       "      <td>[2455, 1858, 2335, 1543, 1800, 1860, 2000, 286...</td>\n",
       "      <td>20</td>\n",
       "      <td>[41, 1550, 1563, 1594, 1544, 1919, 1644, 37, 1...</td>\n",
       "      <td>[13720]</td>\n",
       "    </tr>\n",
       "    <tr>\n",
       "      <th>1</th>\n",
       "      <td>[45]</td>\n",
       "      <td>15</td>\n",
       "      <td>[40, 1542, 1691, 2449, 1535, 3616, 2206, 1904,...</td>\n",
       "      <td>2</td>\n",
       "      <td>[1731, 47, 11, 57, 4624, 1525, 1535, 47, 11, 3...</td>\n",
       "      <td>[1359, 15881]</td>\n",
       "    </tr>\n",
       "    <tr>\n",
       "      <th>2</th>\n",
       "      <td>[]</td>\n",
       "      <td>17</td>\n",
       "      <td>[40, 1542, 1691, 2449, 1535, 2610, 1543, 1535,...</td>\n",
       "      <td></td>\n",
       "      <td>[2085, 1719, 1846, 1745, 2243, 1553, 1606, 159...</td>\n",
       "      <td>[19166, 17763]</td>\n",
       "    </tr>\n",
       "    <tr>\n",
       "      <th>3</th>\n",
       "      <td>[97]</td>\n",
       "      <td>10</td>\n",
       "      <td>[46, 1624, 1547, 56, 1687, 1644, 6, 7, 3386, 1...</td>\n",
       "      <td>4</td>\n",
       "      <td>[40, 1733, 1735, 1540, 1655, 46, 1624, 1547, 5...</td>\n",
       "      <td>[]</td>\n",
       "    </tr>\n",
       "    <tr>\n",
       "      <th>4</th>\n",
       "      <td>[2]</td>\n",
       "      <td>10</td>\n",
       "      <td>[37, 3709, 3836, 1586, 2151, 1727, 3021, 1860,...</td>\n",
       "      <td>9</td>\n",
       "      <td>[38, 1592, 2088, 1543, 1574, 1727, 1597, 1813,...</td>\n",
       "      <td>[19617]</td>\n",
       "    </tr>\n",
       "  </tbody>\n",
       "</table>\n",
       "</div>"
      ],
      "text/plain": [
       "    authors  year                                           abstract venue  \\\n",
       "0  [42, 36]     9  [2455, 1858, 2335, 1543, 1800, 1860, 2000, 286...    20   \n",
       "1      [45]    15  [40, 1542, 1691, 2449, 1535, 3616, 2206, 1904,...     2   \n",
       "2        []    17  [40, 1542, 1691, 2449, 1535, 2610, 1543, 1535,...         \n",
       "3      [97]    10  [46, 1624, 1547, 56, 1687, 1644, 6, 7, 3386, 1...     4   \n",
       "4       [2]    10  [37, 3709, 3836, 1586, 2151, 1727, 3021, 1860,...     9   \n",
       "\n",
       "                                               title          coauth  \n",
       "0  [41, 1550, 1563, 1594, 1544, 1919, 1644, 37, 1...         [13720]  \n",
       "1  [1731, 47, 11, 57, 4624, 1525, 1535, 47, 11, 3...   [1359, 15881]  \n",
       "2  [2085, 1719, 1846, 1745, 2243, 1553, 1606, 159...  [19166, 17763]  \n",
       "3  [40, 1733, 1735, 1540, 1655, 46, 1624, 1547, 5...              []  \n",
       "4  [38, 1592, 2088, 1543, 1574, 1727, 1597, 1813,...         [19617]  "
      ]
     },
     "execution_count": 4,
     "metadata": {},
     "output_type": "execute_result"
    }
   ],
   "source": [
    "df_train_seperated.head()"
   ]
  },
  {
   "cell_type": "code",
   "execution_count": 5,
   "id": "b1d9363b",
   "metadata": {},
   "outputs": [],
   "source": [
    "#to create dataframe of cross products of relations\n",
    "li = []\n",
    "for index,row in enumerate(df_train_seperated.values):\n",
    "    a = row[0]\n",
    "    b = row[5]\n",
    "    li.extend(list(itertools.product(a,b)))"
   ]
  },
  {
   "cell_type": "code",
   "execution_count": 6,
   "id": "ea52f919",
   "metadata": {},
   "outputs": [],
   "source": [
    "df = pd.DataFrame(li)\n",
    "df = df.rename(columns={0: 'Author1', 1: 'Author2'})"
   ]
  },
  {
   "cell_type": "code",
   "execution_count": 7,
   "id": "2082639d",
   "metadata": {},
   "outputs": [
    {
     "data": {
      "text/html": [
       "<div>\n",
       "<style scoped>\n",
       "    .dataframe tbody tr th:only-of-type {\n",
       "        vertical-align: middle;\n",
       "    }\n",
       "\n",
       "    .dataframe tbody tr th {\n",
       "        vertical-align: top;\n",
       "    }\n",
       "\n",
       "    .dataframe thead th {\n",
       "        text-align: right;\n",
       "    }\n",
       "</style>\n",
       "<table border=\"1\" class=\"dataframe\">\n",
       "  <thead>\n",
       "    <tr style=\"text-align: right;\">\n",
       "      <th></th>\n",
       "      <th>Author1</th>\n",
       "      <th>Author2</th>\n",
       "    </tr>\n",
       "  </thead>\n",
       "  <tbody>\n",
       "    <tr>\n",
       "      <th>0</th>\n",
       "      <td>42</td>\n",
       "      <td>13720</td>\n",
       "    </tr>\n",
       "    <tr>\n",
       "      <th>1</th>\n",
       "      <td>36</td>\n",
       "      <td>13720</td>\n",
       "    </tr>\n",
       "    <tr>\n",
       "      <th>2</th>\n",
       "      <td>45</td>\n",
       "      <td>1359</td>\n",
       "    </tr>\n",
       "    <tr>\n",
       "      <th>3</th>\n",
       "      <td>45</td>\n",
       "      <td>15881</td>\n",
       "    </tr>\n",
       "    <tr>\n",
       "      <th>4</th>\n",
       "      <td>2</td>\n",
       "      <td>19617</td>\n",
       "    </tr>\n",
       "    <tr>\n",
       "      <th>5</th>\n",
       "      <td>44</td>\n",
       "      <td>9641</td>\n",
       "    </tr>\n",
       "    <tr>\n",
       "      <th>6</th>\n",
       "      <td>44</td>\n",
       "      <td>5623</td>\n",
       "    </tr>\n",
       "    <tr>\n",
       "      <th>7</th>\n",
       "      <td>2</td>\n",
       "      <td>9641</td>\n",
       "    </tr>\n",
       "    <tr>\n",
       "      <th>8</th>\n",
       "      <td>2</td>\n",
       "      <td>5623</td>\n",
       "    </tr>\n",
       "    <tr>\n",
       "      <th>9</th>\n",
       "      <td>97</td>\n",
       "      <td>3241</td>\n",
       "    </tr>\n",
       "  </tbody>\n",
       "</table>\n",
       "</div>"
      ],
      "text/plain": [
       "   Author1  Author2\n",
       "0       42    13720\n",
       "1       36    13720\n",
       "2       45     1359\n",
       "3       45    15881\n",
       "4        2    19617\n",
       "5       44     9641\n",
       "6       44     5623\n",
       "7        2     9641\n",
       "8        2     5623\n",
       "9       97     3241"
      ]
     },
     "execution_count": 7,
     "metadata": {},
     "output_type": "execute_result"
    }
   ],
   "source": [
    "df.head(10)"
   ]
  },
  {
   "cell_type": "code",
   "execution_count": 8,
   "id": "ac0b1ef6",
   "metadata": {},
   "outputs": [],
   "source": [
    "auth_nodes = []\n",
    "for i,li in enumerate(df_test_auth):\n",
    "    auth_nodes.extend(li)\n",
    "\n",
    "auth_rel = []\n",
    "for i,li in enumerate(df_test_auth):\n",
    "    auth_rel.extend(list(itertools.combinations(li,2)))\n",
    "    \n",
    "auth_nodes = list(set(auth_nodes))\n",
    "\n",
    "#add nodes for author < 100\n",
    "p_auth = df['Author1'].tolist()\n",
    "\n",
    "#add nodes for author >= 100\n",
    "ci_auth = df['Author2'].tolist()\n",
    "\n",
    "d = []\n",
    "d.extend(p_auth)\n",
    "d.extend(ci_auth)\n",
    "d.extend(auth_nodes)\n",
    "\n",
    "nodes = set(d)\n",
    "nodes = list(nodes)\n",
    "test_auth_edges = auth_rel"
   ]
  },
  {
   "cell_type": "code",
   "execution_count": 9,
   "id": "2f30592d",
   "metadata": {},
   "outputs": [
    {
     "data": {
      "text/plain": [
       "7804"
      ]
     },
     "execution_count": 9,
     "metadata": {},
     "output_type": "execute_result"
    }
   ],
   "source": [
    "#adding nodes to the graph\n",
    "G.add_nodes_from(nodes)\n",
    "G.number_of_nodes()"
   ]
  },
  {
   "cell_type": "code",
   "execution_count": 10,
   "id": "81d08ba1",
   "metadata": {},
   "outputs": [
    {
     "data": {
      "text/plain": [
       "20201"
      ]
     },
     "execution_count": 10,
     "metadata": {},
     "output_type": "execute_result"
    }
   ],
   "source": [
    "#adding edges to the graph\n",
    "edge = list(zip(p_auth, ci_auth))\n",
    "edge.extend(auth_rel)\n",
    "\n",
    "edge = set(edge)\n",
    "edge = list(edge)\n",
    "G.add_edges_from(edge)\n",
    "G.number_of_edges()"
   ]
  },
  {
   "cell_type": "code",
   "execution_count": 11,
   "id": "62bcca7e",
   "metadata": {},
   "outputs": [
    {
     "data": {
      "text/plain": [
       "1"
      ]
     },
     "execution_count": 11,
     "metadata": {},
     "output_type": "execute_result"
    }
   ],
   "source": [
    "#Testing the graph\n",
    "nx.shortest_path_length(G, source=19517, target=42)"
   ]
  },
  {
   "cell_type": "code",
   "execution_count": 12,
   "id": "ac1aede9",
   "metadata": {},
   "outputs": [
    {
     "name": "stdout",
     "output_type": "stream",
     "text": [
      "[2, 1333, 76, 11960, 21]\n",
      "CPU times: user 300 µs, sys: 15 µs, total: 315 µs\n",
      "Wall time: 312 µs\n"
     ]
    },
    {
     "data": {
      "text/plain": [
       "[1333, 76, 11960]"
      ]
     },
     "execution_count": 12,
     "metadata": {},
     "output_type": "execute_result"
    }
   ],
   "source": [
    "%%time\n",
    "#Testing\n",
    "print(nx.shortest_path(G, source=2, target=21))\n",
    "li = nx.shortest_path(G, source=2, target=21)\n",
    "li[1:-1]"
   ]
  },
  {
   "cell_type": "markdown",
   "id": "f470803d",
   "metadata": {},
   "source": [
    "# Finding nearest authors in k hops"
   ]
  },
  {
   "cell_type": "code",
   "execution_count": 13,
   "id": "bc9f91e5",
   "metadata": {},
   "outputs": [],
   "source": [
    "def nearest_authors(li):\n",
    "    li = list(li)\n",
    "    di = {}\n",
    "    combined = []\n",
    "    mod_li = []\n",
    "    for index, target in enumerate(li):\n",
    "        if target in list(G.nodes):\n",
    "            mod_li.append(target)\n",
    "    \n",
    "    if len(mod_li) == 0:\n",
    "        return []\n",
    "\n",
    "    for index,i in enumerate(mod_li):\n",
    "        match = []\n",
    "        for ds in range(0,3):\n",
    "            match.extend(list(nx.descendants_at_distance(G, i, ds)))\n",
    "        \n",
    "        match = [item for item in match if item < 100]\n",
    "        combined.append(match)\n",
    "        \n",
    "    return list(set.intersection(*map(set,combined)))"
   ]
  },
  {
   "cell_type": "code",
   "execution_count": 14,
   "id": "71f264f6",
   "metadata": {},
   "outputs": [
    {
     "name": "stdout",
     "output_type": "stream",
     "text": [
      "CPU times: user 1.04 ms, sys: 7 µs, total: 1.05 ms\n",
      "Wall time: 1.05 ms\n"
     ]
    },
    {
     "data": {
      "text/plain": [
       "[92]"
      ]
     },
     "execution_count": 14,
     "metadata": {},
     "output_type": "execute_result"
    }
   ],
   "source": [
    "%%time\n",
    "#testing\n",
    "li = [16336, 1762, 4357, 12564]\n",
    "nearest_authors(li)"
   ]
  },
  {
   "cell_type": "markdown",
   "id": "81ddc78b",
   "metadata": {},
   "source": [
    "# Making search base"
   ]
  },
  {
   "cell_type": "code",
   "execution_count": 15,
   "id": "15bb6ea9",
   "metadata": {},
   "outputs": [
    {
     "data": {
      "text/html": [
       "<div>\n",
       "<style scoped>\n",
       "    .dataframe tbody tr th:only-of-type {\n",
       "        vertical-align: middle;\n",
       "    }\n",
       "\n",
       "    .dataframe tbody tr th {\n",
       "        vertical-align: top;\n",
       "    }\n",
       "\n",
       "    .dataframe thead th {\n",
       "        text-align: right;\n",
       "    }\n",
       "</style>\n",
       "<table border=\"1\" class=\"dataframe\">\n",
       "  <thead>\n",
       "    <tr style=\"text-align: right;\">\n",
       "      <th></th>\n",
       "      <th>identifier</th>\n",
       "      <th>coauthors</th>\n",
       "      <th>year</th>\n",
       "      <th>abstract</th>\n",
       "      <th>venue</th>\n",
       "      <th>title</th>\n",
       "    </tr>\n",
       "  </thead>\n",
       "  <tbody>\n",
       "    <tr>\n",
       "      <th>0</th>\n",
       "      <td>0</td>\n",
       "      <td>[16336, 1762, 4357, 12564]</td>\n",
       "      <td>19</td>\n",
       "      <td>[37, 1662, 3207, 10, 33, 2037, 1738, 1642, 155...</td>\n",
       "      <td>223</td>\n",
       "      <td>[3207, 24, 1798, 1738, 37, 2375, 1568, 11, 53,...</td>\n",
       "    </tr>\n",
       "    <tr>\n",
       "      <th>1</th>\n",
       "      <td>1</td>\n",
       "      <td>[21189, 14088]</td>\n",
       "      <td>19</td>\n",
       "      <td>[1731, 2130, 3674, 1705, 1656, 3077, 1546, 367...</td>\n",
       "      <td>223</td>\n",
       "      <td>[40, 1560, 1536, 1544, 1609, 1705, 1658, 1543,...</td>\n",
       "    </tr>\n",
       "    <tr>\n",
       "      <th>2</th>\n",
       "      <td>2</td>\n",
       "      <td>[3625, 1198, 19889, 794, 2749, 7801]</td>\n",
       "      <td>19</td>\n",
       "      <td>[1551, 1728, 3920, 1542, 1535, 1656, 1543, 153...</td>\n",
       "      <td>7</td>\n",
       "      <td>[47, 1574, 1729, 1641, 11, 37, 2533, 2015, 47,...</td>\n",
       "    </tr>\n",
       "    <tr>\n",
       "      <th>3</th>\n",
       "      <td>3</td>\n",
       "      <td>[19810, 15173, 5876, 111]</td>\n",
       "      <td>19</td>\n",
       "      <td>[51, 1535, 2115, 1543, 1811, 1700, 1657, 1684,...</td>\n",
       "      <td>21</td>\n",
       "      <td>[1770, 53, 2054, 1549, 1529, 1723, 2796, 1547,...</td>\n",
       "    </tr>\n",
       "    <tr>\n",
       "      <th>4</th>\n",
       "      <td>4</td>\n",
       "      <td>[10932, 7668, 11907, 19601, 15307, 10492, 1049...</td>\n",
       "      <td>19</td>\n",
       "      <td>[1775, 1746, 1842, 1525, 33, 2551, 1882, 1542,...</td>\n",
       "      <td></td>\n",
       "      <td>[18, 1924, 23, 1544, 3927, 2686, 1543, 1535, 1...</td>\n",
       "    </tr>\n",
       "  </tbody>\n",
       "</table>\n",
       "</div>"
      ],
      "text/plain": [
       "   identifier                                          coauthors  year  \\\n",
       "0           0                         [16336, 1762, 4357, 12564]    19   \n",
       "1           1                                     [21189, 14088]    19   \n",
       "2           2               [3625, 1198, 19889, 794, 2749, 7801]    19   \n",
       "3           3                          [19810, 15173, 5876, 111]    19   \n",
       "4           4  [10932, 7668, 11907, 19601, 15307, 10492, 1049...    19   \n",
       "\n",
       "                                            abstract venue  \\\n",
       "0  [37, 1662, 3207, 10, 33, 2037, 1738, 1642, 155...   223   \n",
       "1  [1731, 2130, 3674, 1705, 1656, 3077, 1546, 367...   223   \n",
       "2  [1551, 1728, 3920, 1542, 1535, 1656, 1543, 153...     7   \n",
       "3  [51, 1535, 2115, 1543, 1811, 1700, 1657, 1684,...    21   \n",
       "4  [1775, 1746, 1842, 1525, 33, 2551, 1882, 1542,...         \n",
       "\n",
       "                                               title  \n",
       "0  [3207, 24, 1798, 1738, 37, 2375, 1568, 11, 53,...  \n",
       "1  [40, 1560, 1536, 1544, 1609, 1705, 1658, 1543,...  \n",
       "2  [47, 1574, 1729, 1641, 11, 37, 2533, 2015, 47,...  \n",
       "3  [1770, 53, 2054, 1549, 1529, 1723, 2796, 1547,...  \n",
       "4  [18, 1924, 23, 1544, 3927, 2686, 1543, 1535, 1...  "
      ]
     },
     "execution_count": 15,
     "metadata": {},
     "output_type": "execute_result"
    }
   ],
   "source": [
    "df_test.head()"
   ]
  },
  {
   "cell_type": "code",
   "execution_count": 16,
   "id": "f1ae6b38",
   "metadata": {},
   "outputs": [
    {
     "name": "stdout",
     "output_type": "stream",
     "text": [
      "CPU times: user 566 ms, sys: 1.51 ms, total: 568 ms\n",
      "Wall time: 567 ms\n"
     ]
    }
   ],
   "source": [
    "%%time\n",
    "df_test[\"probable_auth\"] = df_test['coauthors'].apply(lambda x : nearest_authors(x) )\n"
   ]
  },
  {
   "cell_type": "code",
   "execution_count": 17,
   "id": "ea2576f6",
   "metadata": {},
   "outputs": [
    {
     "data": {
      "text/html": [
       "<div>\n",
       "<style scoped>\n",
       "    .dataframe tbody tr th:only-of-type {\n",
       "        vertical-align: middle;\n",
       "    }\n",
       "\n",
       "    .dataframe tbody tr th {\n",
       "        vertical-align: top;\n",
       "    }\n",
       "\n",
       "    .dataframe thead th {\n",
       "        text-align: right;\n",
       "    }\n",
       "</style>\n",
       "<table border=\"1\" class=\"dataframe\">\n",
       "  <thead>\n",
       "    <tr style=\"text-align: right;\">\n",
       "      <th></th>\n",
       "      <th>identifier</th>\n",
       "      <th>coauthors</th>\n",
       "      <th>year</th>\n",
       "      <th>abstract</th>\n",
       "      <th>venue</th>\n",
       "      <th>title</th>\n",
       "      <th>probable_auth</th>\n",
       "    </tr>\n",
       "  </thead>\n",
       "  <tbody>\n",
       "    <tr>\n",
       "      <th>0</th>\n",
       "      <td>0</td>\n",
       "      <td>[16336, 1762, 4357, 12564]</td>\n",
       "      <td>19</td>\n",
       "      <td>[37, 1662, 3207, 10, 33, 2037, 1738, 1642, 155...</td>\n",
       "      <td>223</td>\n",
       "      <td>[3207, 24, 1798, 1738, 37, 2375, 1568, 11, 53,...</td>\n",
       "      <td>[92]</td>\n",
       "    </tr>\n",
       "    <tr>\n",
       "      <th>1</th>\n",
       "      <td>1</td>\n",
       "      <td>[21189, 14088]</td>\n",
       "      <td>19</td>\n",
       "      <td>[1731, 2130, 3674, 1705, 1656, 3077, 1546, 367...</td>\n",
       "      <td>223</td>\n",
       "      <td>[40, 1560, 1536, 1544, 1609, 1705, 1658, 1543,...</td>\n",
       "      <td>[2, 6, 8, 11, 17, 22, 26, 27, 28, 31, 32, 42, ...</td>\n",
       "    </tr>\n",
       "    <tr>\n",
       "      <th>2</th>\n",
       "      <td>2</td>\n",
       "      <td>[3625, 1198, 19889, 794, 2749, 7801]</td>\n",
       "      <td>19</td>\n",
       "      <td>[1551, 1728, 3920, 1542, 1535, 1656, 1543, 153...</td>\n",
       "      <td>7</td>\n",
       "      <td>[47, 1574, 1729, 1641, 11, 37, 2533, 2015, 47,...</td>\n",
       "      <td>[79, 50, 51, 55, 31]</td>\n",
       "    </tr>\n",
       "    <tr>\n",
       "      <th>3</th>\n",
       "      <td>3</td>\n",
       "      <td>[19810, 15173, 5876, 111]</td>\n",
       "      <td>19</td>\n",
       "      <td>[51, 1535, 2115, 1543, 1811, 1700, 1657, 1684,...</td>\n",
       "      <td>21</td>\n",
       "      <td>[1770, 53, 2054, 1549, 1529, 1723, 2796, 1547,...</td>\n",
       "      <td>[23]</td>\n",
       "    </tr>\n",
       "    <tr>\n",
       "      <th>4</th>\n",
       "      <td>4</td>\n",
       "      <td>[10932, 7668, 11907, 19601, 15307, 10492, 1049...</td>\n",
       "      <td>19</td>\n",
       "      <td>[1775, 1746, 1842, 1525, 33, 2551, 1882, 1542,...</td>\n",
       "      <td></td>\n",
       "      <td>[18, 1924, 23, 1544, 3927, 2686, 1543, 1535, 1...</td>\n",
       "      <td>[6, 8, 14, 15, 17, 23, 26, 28, 29, 32, 35, 37,...</td>\n",
       "    </tr>\n",
       "  </tbody>\n",
       "</table>\n",
       "</div>"
      ],
      "text/plain": [
       "   identifier                                          coauthors  year  \\\n",
       "0           0                         [16336, 1762, 4357, 12564]    19   \n",
       "1           1                                     [21189, 14088]    19   \n",
       "2           2               [3625, 1198, 19889, 794, 2749, 7801]    19   \n",
       "3           3                          [19810, 15173, 5876, 111]    19   \n",
       "4           4  [10932, 7668, 11907, 19601, 15307, 10492, 1049...    19   \n",
       "\n",
       "                                            abstract venue  \\\n",
       "0  [37, 1662, 3207, 10, 33, 2037, 1738, 1642, 155...   223   \n",
       "1  [1731, 2130, 3674, 1705, 1656, 3077, 1546, 367...   223   \n",
       "2  [1551, 1728, 3920, 1542, 1535, 1656, 1543, 153...     7   \n",
       "3  [51, 1535, 2115, 1543, 1811, 1700, 1657, 1684,...    21   \n",
       "4  [1775, 1746, 1842, 1525, 33, 2551, 1882, 1542,...         \n",
       "\n",
       "                                               title  \\\n",
       "0  [3207, 24, 1798, 1738, 37, 2375, 1568, 11, 53,...   \n",
       "1  [40, 1560, 1536, 1544, 1609, 1705, 1658, 1543,...   \n",
       "2  [47, 1574, 1729, 1641, 11, 37, 2533, 2015, 47,...   \n",
       "3  [1770, 53, 2054, 1549, 1529, 1723, 2796, 1547,...   \n",
       "4  [18, 1924, 23, 1544, 3927, 2686, 1543, 1535, 1...   \n",
       "\n",
       "                                       probable_auth  \n",
       "0                                               [92]  \n",
       "1  [2, 6, 8, 11, 17, 22, 26, 27, 28, 31, 32, 42, ...  \n",
       "2                               [79, 50, 51, 55, 31]  \n",
       "3                                               [23]  \n",
       "4  [6, 8, 14, 15, 17, 23, 26, 28, 29, 32, 35, 37,...  "
      ]
     },
     "execution_count": 17,
     "metadata": {},
     "output_type": "execute_result"
    }
   ],
   "source": [
    "df_test.head(5)"
   ]
  },
  {
   "cell_type": "code",
   "execution_count": 18,
   "id": "29daf1be",
   "metadata": {},
   "outputs": [],
   "source": [
    "#getting csv file\n",
    "df_test.to_csv('test_2_hop.csv')"
   ]
  },
  {
   "cell_type": "code",
   "execution_count": null,
   "id": "2327b37b",
   "metadata": {},
   "outputs": [],
   "source": []
  }
 ],
 "metadata": {
  "kernelspec": {
   "display_name": "Python 3 (ipykernel)",
   "language": "python",
   "name": "python3"
  },
  "language_info": {
   "codemirror_mode": {
    "name": "ipython",
    "version": 3
   },
   "file_extension": ".py",
   "mimetype": "text/x-python",
   "name": "python",
   "nbconvert_exporter": "python",
   "pygments_lexer": "ipython3",
   "version": "3.9.12"
  }
 },
 "nbformat": 4,
 "nbformat_minor": 5
}
