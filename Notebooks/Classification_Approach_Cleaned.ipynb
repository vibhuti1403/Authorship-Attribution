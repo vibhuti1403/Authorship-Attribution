{
  "nbformat": 4,
  "nbformat_minor": 0,
  "metadata": {
    "colab": {
      "provenance": [],
      "collapsed_sections": []
    },
    "kernelspec": {
      "name": "python3",
      "display_name": "Python 3"
    },
    "language_info": {
      "name": "python"
    }
  },
  "cells": [
    {
      "cell_type": "code",
      "source": [
        "!pip install scikit-multilearn"
      ],
      "metadata": {
        "colab": {
          "base_uri": "https://localhost:8080/"
        },
        "id": "o8L-ZbcPFLw3",
        "outputId": "8a711e77-aef3-4dab-b660-4c6c3f0a6c34"
      },
      "execution_count": 42,
      "outputs": [
        {
          "output_type": "stream",
          "name": "stdout",
          "text": [
            "Looking in indexes: https://pypi.org/simple, https://us-python.pkg.dev/colab-wheels/public/simple/\n",
            "Requirement already satisfied: scikit-multilearn in /usr/local/lib/python3.7/dist-packages (0.2.0)\n"
          ]
        }
      ]
    },
    {
      "cell_type": "code",
      "execution_count": 43,
      "metadata": {
        "id": "S9AN8KGeFucE",
        "colab": {
          "base_uri": "https://localhost:8080/"
        },
        "outputId": "f531a703-1bc0-4291-d086-9a0debc37bc5"
      },
      "outputs": [
        {
          "output_type": "stream",
          "name": "stdout",
          "text": [
            "Drive already mounted at /content/drive; to attempt to forcibly remount, call drive.mount(\"/content/drive\", force_remount=True).\n"
          ]
        }
      ],
      "source": [
        "import pandas as pd\n",
        "from google.colab import drive\n",
        "from sklearn.naive_bayes import ComplementNB\n",
        "from sklearn.preprocessing import normalize,OneHotEncoder,MultiLabelBinarizer\n",
        "from sklearn.feature_extraction.text import TfidfVectorizer\n",
        "from sklearn.model_selection import train_test_split,RandomizedSearchCV\n",
        "import gensim\n",
        "from skmultilearn.problem_transform import LabelPowerset\n",
        "from sklearn.metrics import accuracy_score,f1_score\n",
        "from sklearn.naive_bayes import ComplementNB\n",
        "from sklearn.linear_model import LogisticRegression\n",
        "from sklearn.svm import LinearSVC,SVC\n",
        "from scipy.sparse import hstack,csr_matrix\n",
        "import numpy as np\n",
        "from scipy.stats import reciprocal, uniform\n",
        "drive.mount('/content/drive')"
      ]
    },
    {
      "cell_type": "code",
      "source": [
        "#Import dataset\n",
        "original = pd.read_json('/content/drive/MyDrive/sml-authorship-attribution/Data/train.json')\n",
        "prediction = pd.read_json('/content/drive/MyDrive/sml-authorship-attribution/Data/test.json')"
      ],
      "metadata": {
        "id": "1VE_hzIvEHsi"
      },
      "execution_count": 44,
      "outputs": []
    },
    {
      "cell_type": "code",
      "source": [
        "#Preprocessing the columns\n",
        "original['id']=original.index\n",
        "original['coauthors']=original['authors']\n",
        "original['authors']=original['authors'].apply(lambda x: [i for i in x if i<100] if len([i for i in x if i<100])!=0 else [-1])\n",
        "original[\"authors_text\"]=original['authors'].apply(lambda x: ','.join([str(i) for i in x]))\n",
        "original['coauthors']=original.apply(lambda x: list(set(x.coauthors)-set(x.authors)),axis=1)\n",
        "original['venue'] = original['venue'].astype(str)"
      ],
      "metadata": {
        "id": "55b26ahuF-qh"
      },
      "execution_count": 45,
      "outputs": []
    },
    {
      "cell_type": "code",
      "source": [
        "original"
      ],
      "metadata": {
        "colab": {
          "base_uri": "https://localhost:8080/",
          "height": 641
        },
        "id": "IGcrVq0TXWXg",
        "outputId": "41069714-a89f-4aaf-bd44-6c8a476cf774"
      },
      "execution_count": 46,
      "outputs": [
        {
          "output_type": "execute_result",
          "data": {
            "text/plain": [
              "        authors  year                                           abstract  \\\n",
              "0      [42, 36]     9  [2455, 1858, 2335, 1543, 1800, 1860, 2000, 286...   \n",
              "1          [45]    15  [40, 1542, 1691, 2449, 1535, 3616, 2206, 1904,...   \n",
              "2          [-1]    17  [40, 1542, 1691, 2449, 1535, 2610, 1543, 1535,...   \n",
              "3          [97]    10  [46, 1624, 1547, 56, 1687, 1644, 6, 7, 3386, 1...   \n",
              "4           [2]    10  [37, 3709, 3836, 1586, 2151, 1727, 3021, 1860,...   \n",
              "...         ...   ...                                                ...   \n",
              "25788      [78]    14  [46, 1605, 1681, 10, 1557, 4741, 1535, 2021, 1...   \n",
              "25789      [-1]    11  [46, 1605, 1691, 10, 2551, 4168, 2030, 3134, 1...   \n",
              "25790      [-1]     7  [1611, 1543, 1535, 2817, 2073, 1647, 11, 2933,...   \n",
              "25791      [-1]    16  [37, 1662, 33, 2007, 1669, 4981, 1650, 1527, 1...   \n",
              "25792      [-1]    14  [1555, 1544, 3429, 1866, 4012, 33, 3080, 4172,...   \n",
              "\n",
              "      venue                                              title     id  \\\n",
              "0        20  [41, 1550, 1563, 1594, 1544, 1919, 1644, 37, 1...      0   \n",
              "1         2  [1731, 47, 11, 57, 4624, 1525, 1535, 47, 11, 3...      1   \n",
              "2            [2085, 1719, 1846, 1745, 2243, 1553, 1606, 159...      2   \n",
              "3         4  [40, 1733, 1735, 1540, 1655, 46, 1624, 1547, 5...      3   \n",
              "4         9  [38, 1592, 2088, 1543, 1574, 1727, 1597, 1813,...      4   \n",
              "...     ...                                                ...    ...   \n",
              "25788     1  [46, 1910, 36, 2107, 1547, 1553, 1716, 1528, 5...  25788   \n",
              "25789   278  [47, 1574, 1541, 1549, 47, 1966, 2114, 112, 12...  25789   \n",
              "25790    17  [56, 1718, 3012, 56, 1902, 2160, 1546, 1623, 1...  25790   \n",
              "25791     0  [3066, 1728, 11, 1546, 11, 3066, 1728, 1531, 1...  25791   \n",
              "25792     9  [56, 48, 1588, 2374, 47, 1695, 1609, 1641, 157...  25792   \n",
              "\n",
              "                                      coauthors authors_text  \n",
              "0                                       [13720]        42,36  \n",
              "1                                 [15881, 1359]           45  \n",
              "2                                [17763, 19166]           -1  \n",
              "3                                            []           97  \n",
              "4                                       [19617]            2  \n",
              "...                                         ...          ...  \n",
              "25788                                    [1797]           78  \n",
              "25789                      [7905, 11563, 18357]           -1  \n",
              "25790                      [2236, 20436, 10501]           -1  \n",
              "25791                              [8760, 3921]           -1  \n",
              "25792  [2246, 395, 2963, 9046, 3318, 281, 4575]           -1  \n",
              "\n",
              "[25793 rows x 8 columns]"
            ],
            "text/html": [
              "\n",
              "  <div id=\"df-c6d6278c-7a80-4ae1-b9cc-474a18654949\">\n",
              "    <div class=\"colab-df-container\">\n",
              "      <div>\n",
              "<style scoped>\n",
              "    .dataframe tbody tr th:only-of-type {\n",
              "        vertical-align: middle;\n",
              "    }\n",
              "\n",
              "    .dataframe tbody tr th {\n",
              "        vertical-align: top;\n",
              "    }\n",
              "\n",
              "    .dataframe thead th {\n",
              "        text-align: right;\n",
              "    }\n",
              "</style>\n",
              "<table border=\"1\" class=\"dataframe\">\n",
              "  <thead>\n",
              "    <tr style=\"text-align: right;\">\n",
              "      <th></th>\n",
              "      <th>authors</th>\n",
              "      <th>year</th>\n",
              "      <th>abstract</th>\n",
              "      <th>venue</th>\n",
              "      <th>title</th>\n",
              "      <th>id</th>\n",
              "      <th>coauthors</th>\n",
              "      <th>authors_text</th>\n",
              "    </tr>\n",
              "  </thead>\n",
              "  <tbody>\n",
              "    <tr>\n",
              "      <th>0</th>\n",
              "      <td>[42, 36]</td>\n",
              "      <td>9</td>\n",
              "      <td>[2455, 1858, 2335, 1543, 1800, 1860, 2000, 286...</td>\n",
              "      <td>20</td>\n",
              "      <td>[41, 1550, 1563, 1594, 1544, 1919, 1644, 37, 1...</td>\n",
              "      <td>0</td>\n",
              "      <td>[13720]</td>\n",
              "      <td>42,36</td>\n",
              "    </tr>\n",
              "    <tr>\n",
              "      <th>1</th>\n",
              "      <td>[45]</td>\n",
              "      <td>15</td>\n",
              "      <td>[40, 1542, 1691, 2449, 1535, 3616, 2206, 1904,...</td>\n",
              "      <td>2</td>\n",
              "      <td>[1731, 47, 11, 57, 4624, 1525, 1535, 47, 11, 3...</td>\n",
              "      <td>1</td>\n",
              "      <td>[15881, 1359]</td>\n",
              "      <td>45</td>\n",
              "    </tr>\n",
              "    <tr>\n",
              "      <th>2</th>\n",
              "      <td>[-1]</td>\n",
              "      <td>17</td>\n",
              "      <td>[40, 1542, 1691, 2449, 1535, 2610, 1543, 1535,...</td>\n",
              "      <td></td>\n",
              "      <td>[2085, 1719, 1846, 1745, 2243, 1553, 1606, 159...</td>\n",
              "      <td>2</td>\n",
              "      <td>[17763, 19166]</td>\n",
              "      <td>-1</td>\n",
              "    </tr>\n",
              "    <tr>\n",
              "      <th>3</th>\n",
              "      <td>[97]</td>\n",
              "      <td>10</td>\n",
              "      <td>[46, 1624, 1547, 56, 1687, 1644, 6, 7, 3386, 1...</td>\n",
              "      <td>4</td>\n",
              "      <td>[40, 1733, 1735, 1540, 1655, 46, 1624, 1547, 5...</td>\n",
              "      <td>3</td>\n",
              "      <td>[]</td>\n",
              "      <td>97</td>\n",
              "    </tr>\n",
              "    <tr>\n",
              "      <th>4</th>\n",
              "      <td>[2]</td>\n",
              "      <td>10</td>\n",
              "      <td>[37, 3709, 3836, 1586, 2151, 1727, 3021, 1860,...</td>\n",
              "      <td>9</td>\n",
              "      <td>[38, 1592, 2088, 1543, 1574, 1727, 1597, 1813,...</td>\n",
              "      <td>4</td>\n",
              "      <td>[19617]</td>\n",
              "      <td>2</td>\n",
              "    </tr>\n",
              "    <tr>\n",
              "      <th>...</th>\n",
              "      <td>...</td>\n",
              "      <td>...</td>\n",
              "      <td>...</td>\n",
              "      <td>...</td>\n",
              "      <td>...</td>\n",
              "      <td>...</td>\n",
              "      <td>...</td>\n",
              "      <td>...</td>\n",
              "    </tr>\n",
              "    <tr>\n",
              "      <th>25788</th>\n",
              "      <td>[78]</td>\n",
              "      <td>14</td>\n",
              "      <td>[46, 1605, 1681, 10, 1557, 4741, 1535, 2021, 1...</td>\n",
              "      <td>1</td>\n",
              "      <td>[46, 1910, 36, 2107, 1547, 1553, 1716, 1528, 5...</td>\n",
              "      <td>25788</td>\n",
              "      <td>[1797]</td>\n",
              "      <td>78</td>\n",
              "    </tr>\n",
              "    <tr>\n",
              "      <th>25789</th>\n",
              "      <td>[-1]</td>\n",
              "      <td>11</td>\n",
              "      <td>[46, 1605, 1691, 10, 2551, 4168, 2030, 3134, 1...</td>\n",
              "      <td>278</td>\n",
              "      <td>[47, 1574, 1541, 1549, 47, 1966, 2114, 112, 12...</td>\n",
              "      <td>25789</td>\n",
              "      <td>[7905, 11563, 18357]</td>\n",
              "      <td>-1</td>\n",
              "    </tr>\n",
              "    <tr>\n",
              "      <th>25790</th>\n",
              "      <td>[-1]</td>\n",
              "      <td>7</td>\n",
              "      <td>[1611, 1543, 1535, 2817, 2073, 1647, 11, 2933,...</td>\n",
              "      <td>17</td>\n",
              "      <td>[56, 1718, 3012, 56, 1902, 2160, 1546, 1623, 1...</td>\n",
              "      <td>25790</td>\n",
              "      <td>[2236, 20436, 10501]</td>\n",
              "      <td>-1</td>\n",
              "    </tr>\n",
              "    <tr>\n",
              "      <th>25791</th>\n",
              "      <td>[-1]</td>\n",
              "      <td>16</td>\n",
              "      <td>[37, 1662, 33, 2007, 1669, 4981, 1650, 1527, 1...</td>\n",
              "      <td>0</td>\n",
              "      <td>[3066, 1728, 11, 1546, 11, 3066, 1728, 1531, 1...</td>\n",
              "      <td>25791</td>\n",
              "      <td>[8760, 3921]</td>\n",
              "      <td>-1</td>\n",
              "    </tr>\n",
              "    <tr>\n",
              "      <th>25792</th>\n",
              "      <td>[-1]</td>\n",
              "      <td>14</td>\n",
              "      <td>[1555, 1544, 3429, 1866, 4012, 33, 3080, 4172,...</td>\n",
              "      <td>9</td>\n",
              "      <td>[56, 48, 1588, 2374, 47, 1695, 1609, 1641, 157...</td>\n",
              "      <td>25792</td>\n",
              "      <td>[2246, 395, 2963, 9046, 3318, 281, 4575]</td>\n",
              "      <td>-1</td>\n",
              "    </tr>\n",
              "  </tbody>\n",
              "</table>\n",
              "<p>25793 rows × 8 columns</p>\n",
              "</div>\n",
              "      <button class=\"colab-df-convert\" onclick=\"convertToInteractive('df-c6d6278c-7a80-4ae1-b9cc-474a18654949')\"\n",
              "              title=\"Convert this dataframe to an interactive table.\"\n",
              "              style=\"display:none;\">\n",
              "        \n",
              "  <svg xmlns=\"http://www.w3.org/2000/svg\" height=\"24px\"viewBox=\"0 0 24 24\"\n",
              "       width=\"24px\">\n",
              "    <path d=\"M0 0h24v24H0V0z\" fill=\"none\"/>\n",
              "    <path d=\"M18.56 5.44l.94 2.06.94-2.06 2.06-.94-2.06-.94-.94-2.06-.94 2.06-2.06.94zm-11 1L8.5 8.5l.94-2.06 2.06-.94-2.06-.94L8.5 2.5l-.94 2.06-2.06.94zm10 10l.94 2.06.94-2.06 2.06-.94-2.06-.94-.94-2.06-.94 2.06-2.06.94z\"/><path d=\"M17.41 7.96l-1.37-1.37c-.4-.4-.92-.59-1.43-.59-.52 0-1.04.2-1.43.59L10.3 9.45l-7.72 7.72c-.78.78-.78 2.05 0 2.83L4 21.41c.39.39.9.59 1.41.59.51 0 1.02-.2 1.41-.59l7.78-7.78 2.81-2.81c.8-.78.8-2.07 0-2.86zM5.41 20L4 18.59l7.72-7.72 1.47 1.35L5.41 20z\"/>\n",
              "  </svg>\n",
              "      </button>\n",
              "      \n",
              "  <style>\n",
              "    .colab-df-container {\n",
              "      display:flex;\n",
              "      flex-wrap:wrap;\n",
              "      gap: 12px;\n",
              "    }\n",
              "\n",
              "    .colab-df-convert {\n",
              "      background-color: #E8F0FE;\n",
              "      border: none;\n",
              "      border-radius: 50%;\n",
              "      cursor: pointer;\n",
              "      display: none;\n",
              "      fill: #1967D2;\n",
              "      height: 32px;\n",
              "      padding: 0 0 0 0;\n",
              "      width: 32px;\n",
              "    }\n",
              "\n",
              "    .colab-df-convert:hover {\n",
              "      background-color: #E2EBFA;\n",
              "      box-shadow: 0px 1px 2px rgba(60, 64, 67, 0.3), 0px 1px 3px 1px rgba(60, 64, 67, 0.15);\n",
              "      fill: #174EA6;\n",
              "    }\n",
              "\n",
              "    [theme=dark] .colab-df-convert {\n",
              "      background-color: #3B4455;\n",
              "      fill: #D2E3FC;\n",
              "    }\n",
              "\n",
              "    [theme=dark] .colab-df-convert:hover {\n",
              "      background-color: #434B5C;\n",
              "      box-shadow: 0px 1px 3px 1px rgba(0, 0, 0, 0.15);\n",
              "      filter: drop-shadow(0px 1px 2px rgba(0, 0, 0, 0.3));\n",
              "      fill: #FFFFFF;\n",
              "    }\n",
              "  </style>\n",
              "\n",
              "      <script>\n",
              "        const buttonEl =\n",
              "          document.querySelector('#df-c6d6278c-7a80-4ae1-b9cc-474a18654949 button.colab-df-convert');\n",
              "        buttonEl.style.display =\n",
              "          google.colab.kernel.accessAllowed ? 'block' : 'none';\n",
              "\n",
              "        async function convertToInteractive(key) {\n",
              "          const element = document.querySelector('#df-c6d6278c-7a80-4ae1-b9cc-474a18654949');\n",
              "          const dataTable =\n",
              "            await google.colab.kernel.invokeFunction('convertToInteractive',\n",
              "                                                     [key], {});\n",
              "          if (!dataTable) return;\n",
              "\n",
              "          const docLinkHtml = 'Like what you see? Visit the ' +\n",
              "            '<a target=\"_blank\" href=https://colab.research.google.com/notebooks/data_table.ipynb>data table notebook</a>'\n",
              "            + ' to learn more about interactive tables.';\n",
              "          element.innerHTML = '';\n",
              "          dataTable['output_type'] = 'display_data';\n",
              "          await google.colab.output.renderOutput(dataTable, element);\n",
              "          const docLink = document.createElement('div');\n",
              "          docLink.innerHTML = docLinkHtml;\n",
              "          element.appendChild(docLink);\n",
              "        }\n",
              "      </script>\n",
              "    </div>\n",
              "  </div>\n",
              "  "
            ]
          },
          "metadata": {},
          "execution_count": 46
        }
      ]
    },
    {
      "cell_type": "code",
      "source": [
        "#Sampling rows with no prolific authors i.e, tagged -1 to introduce into the train dataset. \n",
        "#We dont use the entire set to avoid class imbalance\n",
        "negative_samples=original[original['authors_text']=='-1'].sample(frac=0.1)\n",
        "print(negative_samples.shape)\n",
        "original=original[original['authors_text']!='-1']\n",
        "print(original.shape)\n",
        "original=pd.concat([original,negative_samples])\n",
        "print(original.shape)"
      ],
      "metadata": {
        "colab": {
          "base_uri": "https://localhost:8080/"
        },
        "id": "7Ws1O-vdWP1r",
        "outputId": "63fbe147-804a-4c3e-b026-6152e2c7b20e"
      },
      "execution_count": 47,
      "outputs": [
        {
          "output_type": "stream",
          "name": "stdout",
          "text": [
            "(1833, 8)\n",
            "(7460, 8)\n",
            "(9293, 8)\n"
          ]
        }
      ]
    },
    {
      "cell_type": "code",
      "source": [
        "original = original.reset_index(drop = True)\n",
        "original = original.drop(['id'], axis = 1)"
      ],
      "metadata": {
        "id": "ROCXZz2tGDC6"
      },
      "execution_count": 48,
      "outputs": []
    },
    {
      "cell_type": "code",
      "source": [
        "# original['abstract'] = original['abstract'].apply(lambda x: [str(i) for i in x])\n",
        "# original['title'] = original['title'].apply(lambda x: [str(i) for i in x])\n",
        "\n",
        "# #prediction\n",
        "\n",
        "# prediction['abstract'] = prediction['abstract'].apply(lambda x: [str(i) for i in x])\n",
        "# prediction['title'] = prediction['title'].apply(lambda x: [str(i) for i in x])"
      ],
      "metadata": {
        "id": "c1lUTRgjtf85"
      },
      "execution_count": 49,
      "outputs": []
    },
    {
      "cell_type": "code",
      "source": [
        "# corpus_abstract = original[\"abstract\"].values\n",
        "# w2v_abstract = gensim.models.word2vec.Word2Vec(corpus_abstract, size=300, window=8, min_count=1, workers=20, iter=10)\n",
        "# corpus_title = original[\"title\"].values\n",
        "# w2v_title = gensim.models.word2vec.Word2Vec(corpus_title, size=80, window=8, min_count=1, workers=20, iter=10)"
      ],
      "metadata": {
        "id": "TV4bVkWqteHB"
      },
      "execution_count": 50,
      "outputs": []
    },
    {
      "cell_type": "code",
      "source": [
        "original['abstract'] = original['abstract'].apply(lambda x: ' '.join([str(i) for i in x]))\n",
        "original['title'] = original['title'].apply(lambda x: ' '.join([str(i) for i in x]))\n",
        "\n",
        "#prediction\n",
        "prediction['abstract'] = prediction['abstract'].apply(lambda x: ' '.join([str(i) for i in x]))\n",
        "prediction['title'] = prediction['title'].apply(lambda x: ' '.join([str(i) for i in x]))"
      ],
      "metadata": {
        "id": "ZSvRUgbYQYvi"
      },
      "execution_count": 51,
      "outputs": []
    },
    {
      "cell_type": "code",
      "source": [
        "#Function to convert a use word vectors to geberate a sentence vector. \n",
        "#We did use doc2vec for the same exercise but it did prove an improvement in the results\n",
        "def sentence2Vec(w2vModel,abstract):    \n",
        "    trans_abstract = np.zeros(w2vModel.wv.vectors.shape[1])\n",
        "    # Looping thru each word in the sentence and if its present in \n",
        "    # the Word2Vec model then storing its vector\n",
        "    count=0\n",
        "    for word in abstract:\n",
        "        if word in w2vModel.wv.vocab.keys():    \n",
        "            trans_abstract=trans_abstract+w2vModel.wv[word]\n",
        "            count+=1\n",
        "    # Averaging Word vectors\n",
        "    trans_abstract/=count\n",
        "    return (trans_abstract)"
      ],
      "metadata": {
        "id": "vTXOLXYxtLuK"
      },
      "execution_count": 52,
      "outputs": []
    },
    {
      "cell_type": "code",
      "source": [
        "#train test split\n",
        "train, test = train_test_split(original, random_state=42, test_size=0.2, shuffle=True)\n",
        "\n",
        "print(train.shape)\n",
        "print(test.shape)"
      ],
      "metadata": {
        "colab": {
          "base_uri": "https://localhost:8080/"
        },
        "id": "4N8YS56caIoE",
        "outputId": "fc664c4d-e219-4249-b0a5-70519299488f"
      },
      "execution_count": 53,
      "outputs": [
        {
          "output_type": "stream",
          "name": "stdout",
          "text": [
            "(7434, 7)\n",
            "(1859, 7)\n"
          ]
        }
      ]
    },
    {
      "cell_type": "code",
      "source": [
        "coauthors=set()\n",
        "for i in train['coauthors'].values:\n",
        "  for x in i:\n",
        "    coauthors.add(x)\n",
        "years=train['year'].unique()\n",
        "for i in years:\n",
        "  train['year_'+str(i)]=train['year'].apply(lambda x: 1 if x==i else 0)\n",
        "  test['year_'+str(i)]=test['year'].apply(lambda x: 1 if x==i else 0)\n",
        "  prediction['year_'+str(i)]=prediction['year'].apply(lambda x: 1 if x==i else 0)\n",
        "venues=train['venue'].unique()\n",
        "for i in venues:\n",
        "  train['venue_'+str(i)]=train['venue'].apply(lambda x: 1 if x==i else 0)\n",
        "  test['venue_'+str(i)]=test['venue'].apply(lambda x: 1 if x==i else 0)\n",
        "  prediction['venue_'+str(i)]=prediction['venue'].apply(lambda x: 1 if x==i else 0)\n",
        "for i in coauthors:\n",
        "  train['coauthors_'+str(i)]=train['coauthors'].apply(lambda x: 1 if i in x else 0)\n",
        "  test['coauthors_'+str(i)]=test['coauthors'].apply(lambda x: 1 if i in x else 0)\n",
        "  prediction['coauthors_'+str(i)]=prediction['coauthors'].apply(lambda x: 1 if i in x else 0)"
      ],
      "metadata": {
        "colab": {
          "base_uri": "https://localhost:8080/"
        },
        "id": "gx1jkp7-5YSO",
        "outputId": "23fe9f0a-0227-419f-9b03-67f154178fe3"
      },
      "execution_count": 54,
      "outputs": [
        {
          "output_type": "stream",
          "name": "stderr",
          "text": [
            "/usr/local/lib/python3.7/dist-packages/ipykernel_launcher.py:12: PerformanceWarning: DataFrame is highly fragmented.  This is usually the result of calling `frame.insert` many times, which has poor performance.  Consider joining all columns at once using pd.concat(axis=1) instead.  To get a de-fragmented frame, use `newframe = frame.copy()`\n",
            "  if sys.path[0] == '':\n",
            "/usr/local/lib/python3.7/dist-packages/ipykernel_launcher.py:13: PerformanceWarning: DataFrame is highly fragmented.  This is usually the result of calling `frame.insert` many times, which has poor performance.  Consider joining all columns at once using pd.concat(axis=1) instead.  To get a de-fragmented frame, use `newframe = frame.copy()`\n",
            "  del sys.path[0]\n",
            "/usr/local/lib/python3.7/dist-packages/ipykernel_launcher.py:14: PerformanceWarning: DataFrame is highly fragmented.  This is usually the result of calling `frame.insert` many times, which has poor performance.  Consider joining all columns at once using pd.concat(axis=1) instead.  To get a de-fragmented frame, use `newframe = frame.copy()`\n",
            "  \n",
            "/usr/local/lib/python3.7/dist-packages/ipykernel_launcher.py:16: PerformanceWarning: DataFrame is highly fragmented.  This is usually the result of calling `frame.insert` many times, which has poor performance.  Consider joining all columns at once using pd.concat(axis=1) instead.  To get a de-fragmented frame, use `newframe = frame.copy()`\n",
            "  app.launch_new_instance()\n",
            "/usr/local/lib/python3.7/dist-packages/ipykernel_launcher.py:17: PerformanceWarning: DataFrame is highly fragmented.  This is usually the result of calling `frame.insert` many times, which has poor performance.  Consider joining all columns at once using pd.concat(axis=1) instead.  To get a de-fragmented frame, use `newframe = frame.copy()`\n",
            "/usr/local/lib/python3.7/dist-packages/ipykernel_launcher.py:18: PerformanceWarning: DataFrame is highly fragmented.  This is usually the result of calling `frame.insert` many times, which has poor performance.  Consider joining all columns at once using pd.concat(axis=1) instead.  To get a de-fragmented frame, use `newframe = frame.copy()`\n"
          ]
        }
      ]
    },
    {
      "cell_type": "code",
      "source": [
        "year_columns = [col for col in train if col.startswith('year_')]\n",
        "year_train_le = train[year_columns]\n",
        "year_test_le = test[year_columns]\n",
        "year_pred_le = prediction[year_columns]\n",
        "print(year_train_le.shape, year_test_le.shape)\n",
        "\n",
        "venue_columns = [col for col in train if col.startswith('venue_')]\n",
        "venue_train_le = train[venue_columns]\n",
        "venue_test_le = test[venue_columns]\n",
        "venue_pred_le = prediction[venue_columns]\n",
        "print(venue_train_le.shape, venue_test_le.shape)\n",
        "\n",
        "\n",
        "coauthors_columns = [col for col in train if col.startswith('coauthors_')]\n",
        "coauthors_train_le = train[coauthors_columns]\n",
        "coauthors_test_le = test[coauthors_columns]\n",
        "coauthors_pred_le = prediction[coauthors_columns]\n",
        "print(coauthors_train_le.shape, coauthors_test_le.shape)\n",
        "\n",
        "#Multilabel Binarizer to transfrom our label set to a binary matrix\n",
        "mlb = MultiLabelBinarizer()\n",
        "y_train = mlb.fit_transform(train['authors'])\n",
        "y_test = mlb.transform(test['authors'])\n",
        "print(y_train.shape, y_test.shape )"
      ],
      "metadata": {
        "colab": {
          "base_uri": "https://localhost:8080/"
        },
        "id": "QkP41tNnnkmK",
        "outputId": "421447ef-cbd9-4351-f97e-6318335f12fe"
      },
      "execution_count": 55,
      "outputs": [
        {
          "output_type": "stream",
          "name": "stdout",
          "text": [
            "(7434, 19) (1859, 19)\n",
            "(7434, 339) (1859, 339)\n",
            "(7434, 7916) (1859, 7916)\n",
            "(7434, 101) (1859, 101)\n"
          ]
        }
      ]
    },
    {
      "cell_type": "code",
      "source": [
        "vectorizer1 = TfidfVectorizer()\n",
        "vectorizer1.fit(train['abstract'])\n",
        "abstract_train_enc = vectorizer1.transform(train['abstract'])\n",
        "abstract_test_enc= vectorizer1.transform(test['abstract'])\n",
        "abstract_pred_enc= vectorizer1.transform(prediction['abstract'])\n",
        "print(abstract_train_enc.shape)\n",
        "print(abstract_test_enc.shape)"
      ],
      "metadata": {
        "colab": {
          "base_uri": "https://localhost:8080/"
        },
        "id": "PZVfB1Qgnkqu",
        "outputId": "6b0b3f1f-bfa6-4487-f2a5-4a014d81c356"
      },
      "execution_count": 56,
      "outputs": [
        {
          "output_type": "stream",
          "name": "stdout",
          "text": [
            "(7434, 3909)\n",
            "(1859, 3909)\n"
          ]
        }
      ]
    },
    {
      "cell_type": "code",
      "source": [
        "vectorizer2 = TfidfVectorizer()\n",
        "vectorizer2.fit(train['title'])\n",
        "title_train_enc = vectorizer2.transform(train['title'])\n",
        "title_test_enc = vectorizer2.transform(test['title'])\n",
        "title_pred_enc = vectorizer2.transform(prediction['title'])\n",
        "print(title_train_enc.shape)\n",
        "print(title_test_enc.shape)"
      ],
      "metadata": {
        "colab": {
          "base_uri": "https://localhost:8080/"
        },
        "id": "PVm3Y8uDG2Wx",
        "outputId": "cf4c7511-d11d-4d5f-9971-07523ff62a66"
      },
      "execution_count": 57,
      "outputs": [
        {
          "output_type": "stream",
          "name": "stdout",
          "text": [
            "(7434, 2295)\n",
            "(1859, 2295)\n"
          ]
        }
      ]
    },
    {
      "cell_type": "code",
      "source": [
        "# train['abstract_w2v']=train['abstract'].apply(lambda x: sentence2Vec(w2v_abstract,x))\n",
        "# test['abstract_w2v']=test['abstract'].apply(lambda x: sentence2Vec(w2v_abstract,x))\n",
        "# prediction['abstract_w2v']=prediction['abstract'].apply(lambda x: sentence2Vec(w2v_abstract,x))\n",
        "# train['title_w2v']=train['title'].apply(lambda x: sentence2Vec(w2v_title,x))\n",
        "# test['title_w2v']=test['title'].apply(lambda x: sentence2Vec(w2v_title,x))\n",
        "# prediction['title_w2v']=prediction['title'].apply(lambda x: sentence2Vec(w2v_title,x))"
      ],
      "metadata": {
        "id": "a_Q7Qpe1t3dO"
      },
      "execution_count": 58,
      "outputs": []
    },
    {
      "cell_type": "code",
      "source": [
        "# train_abstract_w2v=csr_matrix([i for i in train[['abstract_w2v']].T.values[0]])\n",
        "# test_abstract_w2v=csr_matrix([i for i in test[['abstract_w2v']].T.values[0]])\n",
        "# prediction_abstract_w2v=csr_matrix([i for i in prediction[['abstract_w2v']].T.values[0]])\n",
        "# train_title_w2v=csr_matrix([i for i in train[['title_w2v']].T.values[0]])\n",
        "# test_title_w2v=csr_matrix([i for i in test[['title_w2v']].T.values[0]])\n",
        "# prediction_title_w2v=csr_matrix([i for i in prediction[['title_w2v']].T.values[0]])"
      ],
      "metadata": {
        "id": "k0vHpkUN1zOc"
      },
      "execution_count": 59,
      "outputs": []
    },
    {
      "cell_type": "code",
      "source": [
        "#Using Hstack to combine our sparse matrices to a single compressed sparse representation\n",
        "x_tr = hstack((year_train_le,venue_train_le, coauthors_train_le, abstract_train_enc, title_train_enc))\n",
        "x_te = hstack((year_test_le,venue_test_le, coauthors_test_le,  abstract_test_enc, title_test_enc))\n",
        "x_pred = hstack((year_pred_le,venue_pred_le, coauthors_pred_le,  abstract_pred_enc, title_pred_enc))\n",
        "\n",
        "print(\"Final Data matrix\")\n",
        "print(x_tr.shape, y_train.shape)\n",
        "print(x_te.shape, y_test.shape)\n",
        "print(x_pred.shape)"
      ],
      "metadata": {
        "colab": {
          "base_uri": "https://localhost:8080/"
        },
        "id": "KKABq1wis35L",
        "outputId": "a38bacb5-d6ba-4a3d-b5f2-036c1da8798a"
      },
      "execution_count": 60,
      "outputs": [
        {
          "output_type": "stream",
          "name": "stdout",
          "text": [
            "Final Data matrix\n",
            "(7434, 14478) (7434, 101)\n",
            "(1859, 14478) (1859, 101)\n",
            "(800, 14478)\n"
          ]
        }
      ]
    },
    {
      "cell_type": "code",
      "source": [
        "%%time\n",
        "# initialize label powerset multi-label classifier\n",
        "classifier = LabelPowerset(LinearSVC())\n",
        "\n",
        "# train\n",
        "classifier.fit(x_tr.astype(np.float32), y_train.astype(np.float32))\n",
        "\n",
        "# predict\n",
        "predictions = classifier.predict(x_te)\n",
        "# predictions_prob = classifier.predict_proba(x_te)\n",
        "\n",
        "# accuracy\n",
        "print(\"Accuracy = \",accuracy_score(y_test,predictions))\n",
        "print(\"F! score = \", f1_score(y_test, predictions, average='samples'))\n",
        "print(\"\\n\")"
      ],
      "metadata": {
        "id": "qfMUcfaRs4AO",
        "colab": {
          "base_uri": "https://localhost:8080/"
        },
        "outputId": "a21a1317-9fed-4522-a59e-3a44876f1577"
      },
      "execution_count": 61,
      "outputs": [
        {
          "output_type": "stream",
          "name": "stdout",
          "text": [
            "Accuracy =  0.6761699838622915\n",
            "F! score =  0.7238197699736161\n",
            "\n",
            "\n",
            "CPU times: user 16.8 s, sys: 495 ms, total: 17.3 s\n",
            "Wall time: 16.5 s\n"
          ]
        }
      ]
    },
    {
      "cell_type": "code",
      "source": [
        "#To generate prediction on the test.json in the format for submission\n",
        "predictions = classifier.predict(x_pred)\n",
        "pred_df=pd.DataFrame([{'ID':index,'Predict':' '.join([str(x) for x in list(key)])} for index,key in enumerate(mlb.inverse_transform(predictions))])\n",
        "pred_df.to_csv('submission.csv',index=False)"
      ],
      "metadata": {
        "id": "vFZrybC8WSwM"
      },
      "execution_count": 62,
      "outputs": []
    },
    {
      "cell_type": "code",
      "source": [],
      "metadata": {
        "id": "karOiKmDL-Lf"
      },
      "execution_count": 62,
      "outputs": []
    }
  ]
}